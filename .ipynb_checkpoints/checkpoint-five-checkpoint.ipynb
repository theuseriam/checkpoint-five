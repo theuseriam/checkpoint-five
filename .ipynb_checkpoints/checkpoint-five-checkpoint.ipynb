{
 "cells": [
  {
   "cell_type": "markdown",
   "metadata": {
    "azdata_cell_guid": "c9a57f69-e372-43d2-94fc-ab1a9097069f"
   },
   "source": [
    "# Checkpoint Five: Modeling Data\n",
    "\n",
    "With your visualizations ready to go, the final step in your project is to do some predictive analysis on your dataset. You will be using linear regression for your model. You will not be penalized if your linear regression model does not work out. You just need to build the model and make notes as to the results.\n",
    "\n",
    "Link to my dataset:\n",
    "\n",
    "## Prepare Your Dataframe\n",
    "\n",
    "Import any libraries you need and create a dataframe."
   ]
  },
  {
   "cell_type": "code",
   "execution_count": 1,
   "metadata": {
    "azdata_cell_guid": "f9287db4-8af9-4bce-9a54-ffeeee0e045f"
   },
   "outputs": [],
   "source": [
    "# import the pandas library and use the alias 'pd', I am also importing seaborn matplot and numpy for visualizations\n",
    "import pandas as pd\n",
    "\n",
    "import numpy as np\n",
    "import seaborn as sns\n",
    "\n",
    "import matplotlib.pyplot as plt\n",
    "import matplotlib.mlab as mlab\n",
    "import matplotlib\n",
    "plt.style.use('ggplot')\n",
    "\n",
    "from matplotlib.pyplot import figure\n",
    "\n",
    "%matplotlib inline\n",
    "matplotlib.rcParams['figure.figsize'] = (12,8)\n",
    "\n",
    "pd.options.mode.chained_assignment = None\n",
    "\n",
    "# Create 3 new dataframes\n",
    "\n",
    "NAICS = pd.read_csv('KS 2020-2021 NAICS Code.csv')\n",
    "KS_tax = pd.read_csv('KS 2021 Sales Tax Revenue by County.csv')\n",
    "national = pd.read_csv('selected-monthly-sales-tax-collections-data.csv')\n"
   ]
  },
  {
   "cell_type": "markdown",
   "metadata": {
    "azdata_cell_guid": "d794ffe0-9cd3-4812-bc7d-f75460cf611c"
   },
   "source": [
    "## Find Correlations\n",
    "\n",
    "Use either pairplot or a heatmap or both to find the two variables with the strongest correlation in your dataset."
   ]
  },
  {
   "cell_type": "code",
   "execution_count": 1,
   "metadata": {
    "azdata_cell_guid": "b009376d-9eb1-4cf0-9487-f0ddc3dbc1cd"
   },
   "outputs": [],
   "source": []
  },
  {
   "cell_type": "markdown",
   "metadata": {
    "azdata_cell_guid": "b75b6098-4152-4701-9136-a8f774c8583e"
   },
   "source": [
    "## Create Your Model\n",
    "\n",
    "Use the two columns with the strongest correlation to create and train your model. Make sure to print out the summary and plot the column values and the line produced by the model."
   ]
  },
  {
   "cell_type": "code",
   "execution_count": 1,
   "metadata": {
    "azdata_cell_guid": "05ecd9c7-e4a4-4d5c-b092-3dff597e96a3"
   },
   "outputs": [],
   "source": []
  },
  {
   "cell_type": "code",
   "execution_count": 1,
   "metadata": {
    "azdata_cell_guid": "f55fbe86-74b8-44f7-af96-7448e58983d7",
    "tags": []
   },
   "outputs": [],
   "source": []
  },
  {
   "cell_type": "markdown",
   "metadata": {
    "azdata_cell_guid": "c021f50d-92b2-4359-b3a9-c47f62f0a94f"
   },
   "source": [
    "## Error Terms\n",
    "\n",
    "Finally, plot your error terms!"
   ]
  },
  {
   "cell_type": "code",
   "execution_count": 1,
   "metadata": {
    "azdata_cell_guid": "87480c6c-1bb6-4135-953a-c74ba3da518d"
   },
   "outputs": [],
   "source": []
  },
  {
   "cell_type": "markdown",
   "metadata": {
    "azdata_cell_guid": "5fc50d24-c873-4801-87f2-a1e518caf424"
   },
   "source": [
    "## Summarize Your Work\n",
    "\n",
    "Make notes of your answers to the questions below.\n",
    "\n",
    "1. What was your R-squared value? 0.638\n",
    "2. Based on your results, do you think a linear regression model was the best type of predictive analysis for your dataset? It was not particularly effective in this case.\n",
    "3. Was your plot of the error terms a bell curve? Not really"
   ]
  }
 ],
 "metadata": {
  "kernelspec": {
   "display_name": "Python 3 (ipykernel)",
   "language": "python",
   "name": "python3"
  },
  "language_info": {
   "codemirror_mode": {
    "name": "ipython",
    "version": 3
   },
   "file_extension": ".py",
   "mimetype": "text/x-python",
   "name": "python",
   "nbconvert_exporter": "python",
   "pygments_lexer": "ipython3",
   "version": "3.8.8"
  }
 },
 "nbformat": 4,
 "nbformat_minor": 2
}
